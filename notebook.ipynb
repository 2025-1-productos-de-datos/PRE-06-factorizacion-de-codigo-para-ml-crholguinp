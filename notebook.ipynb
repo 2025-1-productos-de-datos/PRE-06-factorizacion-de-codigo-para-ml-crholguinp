{
 "cells": [
  {
   "cell_type": "code",
   "execution_count": null,
   "id": "3b571bd3",
   "metadata": {
    "vscode": {
     "languageId": "plaintext"
    }
   },
   "outputs": [],
   "source": [
    "import pandas as pd\n",
    "# descarga de datos\n",
    "url = \"http://archive.ics.uci.edu/ml/machine-learning-databases/wine-quality/winequality-red.csv\"\n",
    "df = pd.read_csv(url, sep=\";\")"
   ]
  }
 ],
 "metadata": {
  "language_info": {
   "name": "python"
  }
 },
 "nbformat": 4,
 "nbformat_minor": 5
}
